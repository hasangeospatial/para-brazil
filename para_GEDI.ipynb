{
 "cells": [
  {
   "cell_type": "code",
   "execution_count": null,
   "metadata": {},
   "outputs": [],
   "source": [
    "!pip install earthengine-api geemap"
   ]
  },
  {
   "cell_type": "code",
   "execution_count": 1,
   "metadata": {},
   "outputs": [],
   "source": [
    "#import libraries (earthengine and geemap)\n",
    "import ee\n"
   ]
  },
  {
   "cell_type": "code",
   "execution_count": 2,
   "metadata": {},
   "outputs": [],
   "source": [
    "!earthengine authenticate"
   ]
  },
  {
   "cell_type": "code",
   "execution_count": 3,
   "metadata": {},
   "outputs": [],
   "source": [
    "# Initialize the Earth Engine module.\n",
    "ee.Initialize()"
   ]
  },
  {
   "cell_type": "code",
   "execution_count": 4,
   "metadata": {},
   "outputs": [],
   "source": [
    "# Define the administrative boundary of Pará, Brazil (need to filter grids)\n",
    "Admin = ee.FeatureCollection(\"FAO/GAUL/2015/level1\")  # Load the GAUL dataset\n",
    "para_boundary = Admin.filter(ee.Filter.And(\n",
    "    ee.Filter.eq('ADM1_NAME', 'Para'),\n",
    "    ee.Filter.eq('ADM0_NAME', 'Brazil')\n",
    "))"
   ]
  },
  {
   "cell_type": "markdown",
   "metadata": {},
   "source": [
    "Create a grid (10x10 = 100 tiles in the example) as needed to extract points..."
   ]
  },
  {
   "cell_type": "code",
   "execution_count": 11,
   "metadata": {},
   "outputs": [],
   "source": [
    "# Define the number of tiles in x and y directions\n",
    "num_tiles_x = 10  # 10 tiles along the x-axis\n",
    "num_tiles_y = 10  # 10 tiles along the y-axis\n",
    "\n",
    "# Calculate the dimensions of each tile\n",
    "lon_start, lon_end = -59.15588775272494, -45.88440337772494\n",
    "lat_start, lat_end = -10.054019907719326, 2.812773900498235\n",
    "\n",
    "lon_edge = (lon_end - lon_start) / num_tiles_x\n",
    "lat_edge = (lat_end - lat_start) / num_tiles_y\n",
    "\n",
    "# Create a grid of tiles\n",
    "polys = []\n",
    "cell_id = 0\n",
    "for lon in range(num_tiles_x):\n",
    "    x1 = lon_start + lon * lon_edge\n",
    "    x2 = x1 + lon_edge\n",
    "    for lat in range(num_tiles_y):\n",
    "        cell_id += 1\n",
    "        y1 = lat_start + lat * lat_edge\n",
    "        y2 = y1 + lat_edge\n",
    "        \n",
    "        polys.append(ee.Feature(ee.Geometry.Rectangle(x1, y1, x2, y2), {'label': cell_id}))\n",
    "\n",
    "# Create a FeatureCollection from the list of polygons and Filter the grid to include only tiles that intersect the Pará boundary\n",
    "grid = ee.FeatureCollection(polys).filterBounds(para_boundary)\n"
   ]
  },
  {
   "cell_type": "markdown",
   "metadata": {},
   "source": [
    "Set some functions to filter the data and extract points..."
   ]
  },
  {
   "cell_type": "code",
   "execution_count": 13,
   "metadata": {},
   "outputs": [],
   "source": [
    "# Define the function to apply quality masks\n",
    "def apply_quality_mask(image):\n",
    "    return image.updateMask(image.select('quality_flag').eq(1)).updateMask(image.select('degrade_flag').eq(0))\n",
    "\n",
    "# Define the function to clip images to the tile geometry\n",
    "def clip_image_to_tile(image, tile_geometry):\n",
    "    return image.clip(tile_geometry)\n",
    "\n",
    "# Function to add latitude and longitude bands to an image.\n",
    "def add_lat_lon_bands(image):\n",
    "    lat_lon = ee.Image.pixelLonLat()  # Create an image with latitude and longitude bands.\n",
    "    return image.addBands(lat_lon)\n",
    "\n",
    "# Define the function to convert images to points and filter out points with no data\n",
    "def convert_images_to_points(image):\n",
    "    geometry = image.geometry()\n",
    "    points = image.sample(region=geometry, scale=30, numPixels=1e9)\n",
    "    points = points.filter(ee.Filter.notNull(['rh98']))  # Replace 'rh98' with the correct band name if needed\n",
    "    points = points.filter(ee.Filter.eq('quality_flag', 1)) # filter points with quality_flag = 1\n",
    "    points = points.filter(ee.Filter.gte('sensitivity', 0.9)) # sensitivity >= 0.9\n",
    "    points = points.filter(ee.Filter.inList('beam', [5, 6, 8, 11]))#filter only full power beams.\n",
    "    return points"
   ]
  },
  {
   "cell_type": "markdown",
   "metadata": {},
   "source": [
    "The following function works on each tile (one by one) and extract all valid GEDI L2A points converting all raster bands into attribute of the point. It also adds latitude and longitude of the points..."
   ]
  },
  {
   "cell_type": "code",
   "execution_count": 14,
   "metadata": {},
   "outputs": [],
   "source": [
    "def process_tile(tile):\n",
    "    tile_geometry = ee.Feature(tile).geometry()\n",
    "\n",
    "    # Get GEDI L2A raster collection\n",
    "    gediL2Araster = ee.ImageCollection(\"LARSE/GEDI/GEDI02_A_002_MONTHLY\")\n",
    "\n",
    "    # Apply quality masks\n",
    "    gedi_l2a_quality_masked = gediL2Araster.map(apply_quality_mask)\n",
    "\n",
    "    # Clip images to the tile geometry\n",
    "    gedi_l2a_clipped = gedi_l2a_quality_masked.map(lambda img: clip_image_to_tile(img, tile_geometry))\n",
    "\n",
    "    # Add latitude and longitude bands.\n",
    "    gedi_l2a_with_coords = gedi_l2a_clipped.map(add_lat_lon_bands)\n",
    "\n",
    "    # Convert images to points.\n",
    "    gedi_points_tile = gedi_l2a_with_coords.map(convert_images_to_points).flatten()\n",
    "\n",
    "    # Create a valid description and filename prefix\n",
    "    tile_label = tile.get('label').getInfo()  # Extract the label value\n",
    "    description = 'GEDI_L2A_tile_' + str(tile_label)\n",
    "    filename_prefix = 'tile_' + str(tile_label)\n",
    "\n",
    "    # Export the points of this tile to a CSV file\n",
    "    task = ee.batch.Export.table.toDrive(\n",
    "        collection=gedi_points_tile,\n",
    "        description=description,\n",
    "        folder='GEDI_L2A_Para_Brazil',  # Specify your folder name here\n",
    "        fileNamePrefix=filename_prefix,  # Add a prefix for the file name\n",
    "        fileFormat='CSV'\n",
    "    )\n",
    "    task.start()\n",
    "    print(f'Started export for tile {tile_label}')\n",
    "\n"
   ]
  },
  {
   "cell_type": "markdown",
   "metadata": {},
   "source": [
    "Create a list of tiles from the grid created above and run the process_tile function on each tile..."
   ]
  },
  {
   "cell_type": "code",
   "execution_count": 10,
   "metadata": {},
   "outputs": [
    {
     "name": "stdout",
     "output_type": "stream",
     "text": [
      "Started export for tile 1\n",
      "Started export for tile 2\n",
      "Started export for tile 3\n",
      "Started export for tile 4\n",
      "Started export for tile 5\n",
      "Started export for tile 6\n",
      "Started export for tile 7\n",
      "Started export for tile 8\n",
      "Started export for tile 9\n",
      "Started export for tile 10\n",
      "Started export for tile 11\n",
      "Started export for tile 12\n",
      "Started export for tile 13\n",
      "Started export for tile 14\n",
      "Started export for tile 15\n",
      "Started export for tile 16\n",
      "Started export for tile 17\n",
      "Started export for tile 18\n",
      "Started export for tile 19\n",
      "Started export for tile 20\n",
      "Started export for tile 21\n",
      "Started export for tile 22\n",
      "Started export for tile 23\n",
      "Started export for tile 24\n",
      "Started export for tile 25\n",
      "Started export for tile 26\n",
      "Started export for tile 27\n",
      "Started export for tile 28\n",
      "Started export for tile 29\n",
      "Started export for tile 30\n",
      "Started export for tile 31\n",
      "Started export for tile 32\n",
      "Started export for tile 33\n",
      "Started export for tile 34\n",
      "Started export for tile 35\n",
      "Started export for tile 36\n",
      "Started export for tile 37\n",
      "Started export for tile 38\n",
      "Started export for tile 39\n",
      "Started export for tile 40\n",
      "Started export for tile 41\n",
      "Started export for tile 42\n",
      "Started export for tile 43\n",
      "Started export for tile 44\n",
      "Started export for tile 45\n",
      "Started export for tile 46\n",
      "Started export for tile 47\n",
      "Started export for tile 48\n",
      "Started export for tile 49\n",
      "Started export for tile 50\n",
      "Started export for tile 51\n",
      "Started export for tile 52\n",
      "Started export for tile 53\n",
      "Started export for tile 54\n",
      "Started export for tile 55\n",
      "Started export for tile 56\n",
      "Started export for tile 57\n",
      "Started export for tile 58\n",
      "Started export for tile 59\n",
      "Started export for tile 60\n",
      "Started export for tile 61\n",
      "Started export for tile 62\n",
      "Started export for tile 63\n",
      "Started export for tile 64\n",
      "Started export for tile 65\n",
      "Started export for tile 66\n",
      "Started export for tile 67\n",
      "Started export for tile 68\n",
      "Started export for tile 69\n",
      "Started export for tile 70\n",
      "Started export for tile 71\n",
      "Started export for tile 72\n",
      "Started export for tile 73\n",
      "Started export for tile 74\n",
      "Started export for tile 75\n",
      "Started export for tile 76\n",
      "Started export for tile 77\n",
      "Started export for tile 78\n",
      "Started export for tile 79\n",
      "Started export for tile 80\n",
      "Started export for tile 81\n",
      "Started export for tile 82\n"
     ]
    }
   ],
   "source": [
    "# Get the list of tiles from the grid\n",
    "tiles_list = grid.getInfo()['features']\n",
    "\n",
    "# Relabel the tiles from 1 to the total number (N) of tiles (Optional).\n",
    "for index, tile in enumerate(tiles_list, start=1):\n",
    "    tile['properties']['label'] = str(index)\n",
    "\n",
    "# Process each tile\n",
    "for tile in tiles_list:\n",
    "    process_tile(ee.Feature(tile['geometry']).set('label', tile['properties']['label']))\n"
   ]
  }
 ],
 "metadata": {
  "kernelspec": {
   "display_name": "Python 3",
   "language": "python",
   "name": "python3"
  },
  "language_info": {
   "codemirror_mode": {
    "name": "ipython",
    "version": 3
   },
   "file_extension": ".py",
   "mimetype": "text/x-python",
   "name": "python",
   "nbconvert_exporter": "python",
   "pygments_lexer": "ipython3",
   "version": "3.9.13"
  }
 },
 "nbformat": 4,
 "nbformat_minor": 2
}
