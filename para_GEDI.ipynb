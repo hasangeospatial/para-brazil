{
 "cells": [
  {
   "cell_type": "code",
   "execution_count": null,
   "metadata": {},
   "outputs": [],
   "source": [
    "!pip install earthengine-api geemap"
   ]
  },
  {
   "cell_type": "code",
   "execution_count": null,
   "metadata": {},
   "outputs": [],
   "source": [
    "import ee\n",
    "import geemap"
   ]
  },
  {
   "cell_type": "code",
   "execution_count": null,
   "metadata": {},
   "outputs": [],
   "source": [
    "# Initialize the Earth Engine module.\n",
    "ee.Initialize()"
   ]
  },
  {
   "cell_type": "code",
   "execution_count": null,
   "metadata": {},
   "outputs": [],
   "source": [
    "!earthengine authenticate"
   ]
  },
  {
   "cell_type": "code",
   "execution_count": null,
   "metadata": {},
   "outputs": [],
   "source": [
    "# Define the administrative boundary of Pará, Brazil\n",
    "Admin = ee.FeatureCollection(\"FAO/GAUL/2015/level1\")  # Load the GAUL dataset\n",
    "para_boundary = Admin.filter(ee.Filter.And(\n",
    "    ee.Filter.eq('ADM1_NAME', 'Para'),\n",
    "    ee.Filter.eq('ADM0_NAME', 'Brazil')\n",
    "))"
   ]
  },
  {
   "cell_type": "markdown",
   "metadata": {},
   "source": [
    "Create a grid (10x10 = 100 tiles in the example) as needed to extract points..."
   ]
  },
  {
   "cell_type": "code",
   "execution_count": null,
   "metadata": {},
   "outputs": [],
   "source": [
    "# Define the number of tiles in x and y directions\n",
    "num_tiles_x = 10  # 10 tiles along the x-axis\n",
    "num_tiles_y = 10  # 10 tiles along the y-axis"
   ]
  },
  {
   "cell_type": "code",
   "execution_count": null,
   "metadata": {},
   "outputs": [],
   "source": [
    "# Calculate the dimensions of each tile\n",
    "lon_start, lon_end = -59.15588775272494, -45.88440337772494\n",
    "lat_start, lat_end = -10.054019907719326, 2.812773900498235\n",
    "\n",
    "lon_edge = (lon_end - lon_start) / num_tiles_x\n",
    "lat_edge = (lat_end - lat_start) / num_tiles_y\n",
    "\n",
    "# Create a grid of tiles\n",
    "polys = []\n",
    "cell_id = 0\n",
    "for lon in range(num_tiles_x):\n",
    "    x1 = lon_start + lon * lon_edge\n",
    "    x2 = x1 + lon_edge\n",
    "    for lat in range(num_tiles_y):\n",
    "        cell_id += 1\n",
    "        y1 = lat_start + lat * lat_edge\n",
    "        y2 = y1 + lat_edge\n",
    "        \n",
    "        polys.append(ee.Feature(ee.Geometry.Rectangle(x1, y1, x2, y2), {'label': cell_id}))\n",
    "\n",
    "# Create a FeatureCollection from the list of polygons\n",
    "grid = ee.FeatureCollection(polys)"
   ]
  },
  {
   "cell_type": "code",
   "execution_count": null,
   "metadata": {},
   "outputs": [],
   "source": [
    "# Optionally, add the tiles as a layer to the map for visualization\n",
    "Map = geemap.Map()\n",
    "Map.centerObject(grid, 5)\n",
    "Map.addLayer(para_boundary, {}, \"Para Boundary\")\n",
    "Map.addLayer(grid, {}, 'Tiles')\n",
    "Map"
   ]
  },
  {
   "cell_type": "markdown",
   "metadata": {},
   "source": [
    "Set some functions to filter the data and extract points..."
   ]
  },
  {
   "cell_type": "code",
   "execution_count": null,
   "metadata": {},
   "outputs": [],
   "source": [
    "# Define the function to apply quality masks\n",
    "def apply_quality_mask(image):\n",
    "    return image.updateMask(image.select('quality_flag').eq(1)).updateMask(image.select('degrade_flag').eq(0))\n",
    "\n",
    "# Define the function to clip images to the tile geometry\n",
    "def clip_image_to_tile(image, tile_geometry):\n",
    "    return image.clip(tile_geometry)\n",
    "\n",
    "# Define the function to convert images to points and filter out points with no data\n",
    "def convert_images_to_points(image):\n",
    "    geometry = image.geometry()\n",
    "    points = image.sample(region=geometry, scale=30, numPixels=1e9)\n",
    "    points = points.filter(ee.Filter.notNull(['rh98']))  # Replace 'rh98' with the correct band name if needed\n",
    "    def add_coordinates(feature):\n",
    "        coords = feature.geometry().coordinates()\n",
    "        return feature.set({'latitude': coords.get(1), 'longitude': coords.get(0)})\n",
    "    points = points.map(add_coordinates)\n",
    "    return points"
   ]
  },
  {
   "cell_type": "markdown",
   "metadata": {},
   "source": [
    "The following function works on each tile (one by one) and extract all valid GEDI L2A points converting all raster bands into attribute of the point. It also adds latitude and longitude of the points..."
   ]
  },
  {
   "cell_type": "code",
   "execution_count": null,
   "metadata": {},
   "outputs": [],
   "source": [
    "def process_tile(tile):\n",
    "    tile_geometry = ee.Feature(tile).geometry()\n",
    "\n",
    "    # Get GEDI L2A raster collection\n",
    "    gediL2Araster = ee.ImageCollection(\"LARSE/GEDI/GEDI02_A_002_MONTHLY\")\n",
    "\n",
    "    # Apply quality masks\n",
    "    gedi_l2a_quality_masked = gediL2Araster.map(apply_quality_mask)\n",
    "\n",
    "    # Clip images to the tile geometry\n",
    "    gedi_l2a_clipped = gedi_l2a_quality_masked.map(lambda img: clip_image_to_tile(img, tile_geometry))\n",
    "\n",
    "    # Convert images to points\n",
    "    gedi_points_tile = gedi_l2a_clipped.map(convert_images_to_points).flatten()\n",
    "\n",
    "    # Create a valid description and filename prefix\n",
    "    tile_label = tile.get('label').getInfo()  # Extract the label value\n",
    "    description = f\"GEDI_L2A_tile_{tile_label}\"\n",
    "    filename_prefix = f\"tile_{tile_label}\"\n",
    "\n",
    "    # Export the points of this tile to a CSV file\n",
    "    task = ee.batch.Export.table.toDrive(\n",
    "        collection=gedi_points_tile,\n",
    "        description=description,\n",
    "        folder='GEDI_L2A_Para',  # Specify your folder name here\n",
    "        fileNamePrefix=filename_prefix,  # Add a prefix for the file name\n",
    "        fileFormat='CSV'\n",
    "    )\n",
    "    task.start()\n",
    "    print(f'Started export for tile {tile_label}')\n",
    "\n"
   ]
  },
  {
   "cell_type": "markdown",
   "metadata": {},
   "source": [
    "Create a list of tiles from the grid created above and run the process_tile function on each tile..."
   ]
  },
  {
   "cell_type": "code",
   "execution_count": null,
   "metadata": {},
   "outputs": [],
   "source": [
    "# Get the list of tiles from the grid\n",
    "tiles_list = grid.getInfo()['features']\n",
    "\n",
    "# Process each tile\n",
    "for tile in tiles_list:\n",
    "    process_tile(ee.Feature(tile['geometry']).set('label', tile['properties']['label']))\n"
   ]
  },
  {
   "cell_type": "markdown",
   "metadata": {},
   "source": [
    "The following is not needed! It is only to extract points for missing or failed tiles!"
   ]
  },
  {
   "cell_type": "code",
   "execution_count": null,
   "metadata": {},
   "outputs": [],
   "source": [
    "def process_tile2(tile):\n",
    "    tile_geometry = ee.Feature(tile).geometry()\n",
    "\n",
    "    # Get GEDI L2A raster collection\n",
    "    gediL2Araster = ee.ImageCollection(\"LARSE/GEDI/GEDI02_A_002_MONTHLY\")\n",
    "\n",
    "    # Apply quality masks\n",
    "    gedi_l2a_quality_masked = gediL2Araster.map(apply_quality_mask)\n",
    "\n",
    "    # Clip images to the tile geometry\n",
    "    gedi_l2a_clipped = gedi_l2a_quality_masked.map(lambda img: clip_image_to_tile(img, tile_geometry))\n",
    "\n",
    "    # Convert images to points\n",
    "    gedi_points_tile = gedi_l2a_clipped.map(convert_images_to_points).flatten()\n",
    "\n",
    "    # Split the points into two parts\n",
    "    total_points = gedi_points_tile.size().getInfo()\n",
    "    half_points = total_points // 2\n",
    "\n",
    "    part_1 = gedi_points_tile.limit(half_points)\n",
    "    part_2 = gedi_points_tile.skip(half_points)\n",
    "\n",
    "    # Create a valid description and filename prefix\n",
    "    tile_label = tile.get('label').getInfo()  # Extract the label value\n",
    "\n",
    "    # Export the first part of the points of this tile to a CSV file\n",
    "    task1 = ee.batch.Export.table.toDrive(\n",
    "        collection=part_1,\n",
    "        description=f\"GEDI_L2A_tile_{tile_label}_part_1\",\n",
    "        folder='GEDI_L2A_Para',  # Specify your folder name here\n",
    "        fileNamePrefix=f\"tile_{tile_label}_part_1\",  # Add a prefix for the file name\n",
    "        fileFormat='CSV'\n",
    "    )\n",
    "    task1.start()\n",
    "    print(f'Started export for tile {tile_label} part 1')\n",
    "\n",
    "    # Export the second part of the points of this tile to a CSV file\n",
    "    task2 = ee.batch.Export.table.toDrive(\n",
    "        collection=part_2,\n",
    "        description=f\"GEDI_L2A_tile_{tile_label}_part_2\",\n",
    "        folder='GEDI_L2A_Para',  # Specify your folder name here\n",
    "        fileNamePrefix=f\"tile_{tile_label}_part_2\",  # Add a prefix for the file name\n",
    "        fileFormat='CSV'\n",
    "    )\n",
    "    task2.start()\n",
    "    print(f'Started export for tile {tile_label} part 2')\n"
   ]
  },
  {
   "cell_type": "code",
   "execution_count": null,
   "metadata": {},
   "outputs": [],
   "source": [
    "# Get the list of tiles from the grid\n",
    "tiles_list = grid.getInfo()['features']\n",
    "\n",
    "# List of specific tiles to process\n",
    "specific_tiles = [11, 17, 22, 33, 40, 73]\n",
    "\n",
    "# Process only specific tiles\n",
    "for tile in tiles_list:\n",
    "    tile_label = tile['properties']['label']\n",
    "    if tile_label in specific_tiles:\n",
    "        process_tile2(ee.Feature(tile['geometry']).set('label', tile_label))"
   ]
  }
 ],
 "metadata": {
  "kernelspec": {
   "display_name": "Python 3",
   "language": "python",
   "name": "python3"
  },
  "language_info": {
   "codemirror_mode": {
    "name": "ipython",
    "version": 3
   },
   "file_extension": ".py",
   "mimetype": "text/x-python",
   "name": "python",
   "nbconvert_exporter": "python",
   "pygments_lexer": "ipython3",
   "version": "3.9.13"
  }
 },
 "nbformat": 4,
 "nbformat_minor": 2
}
